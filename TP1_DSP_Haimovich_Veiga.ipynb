{
 "cells": [
  {
   "cell_type": "markdown",
   "metadata": {},
   "source": [
    "**Trabajo Práctico 1 - Procesamiento Digital de Señales\n",
    "*Haimovich-Veiga "
   ]
  },
  {
   "cell_type": "markdown",
   "metadata": {},
   "source": []
  }
 ],
 "metadata": {
  "kernelspec": {
   "display_name": "Python 3.10.0 64-bit",
   "language": "python",
   "name": "python3"
  },
  "language_info": {
   "name": "python",
   "version": "3.10.0"
  },
  "orig_nbformat": 4,
  "vscode": {
   "interpreter": {
    "hash": "0ea5e1da65dbe3022db5fa22b001ff8ffec5918ae468b4862f3688114d8b7f2f"
   }
  }
 },
 "nbformat": 4,
 "nbformat_minor": 2
}